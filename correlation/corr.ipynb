{
 "cells": [
  {
   "cell_type": "code",
   "execution_count": 1,
   "metadata": {},
   "outputs": [],
   "source": [
    "import pandas as pd"
   ]
  },
  {
   "cell_type": "code",
   "execution_count": 29,
   "metadata": {},
   "outputs": [
    {
     "name": "stdout",
     "output_type": "stream",
     "text": [
      "Index(['void_init_kernel<double>(double*__double_const*__double_const*__double_const*__unsigned_long__bool)_',\n",
      "       'void_read_kernel<double>(double*__double_const*__double_const*__double_const*__unsigned_long__bool)_',\n",
      "       'void_scale_kernel<double>(double*__double_const*__double_const*__double_const*__unsigned_long__bool)_',\n",
      "       'void_stencil1d3pt_kernel<double>(double*__double_const*__double_const*__double_const*__unsigned_long__bool)_',\n",
      "       'void_stencil1d5pt_kernel<double>(double*__double_const*__double_const*__double_const*__unsigned_long__bool)_',\n",
      "       'void_triad_kernel<double>(double*__double_const*__double_const*__double_const*__unsigned_long__bool)_'],\n",
      "      dtype='object')\n"
     ]
    }
   ],
   "source": [
    "df = pd.read_csv('amd_gpu_stream.csv')\n",
    "df = df.rename(columns={'Unnamed: 0':'Metric'})\n",
    "df = df.set_index('Metric')\n",
    "print(df.columns)"
   ]
  },
  {
   "cell_type": "code",
   "execution_count": 87,
   "metadata": {},
   "outputs": [
    {
     "name": "stdout",
     "output_type": "stream",
     "text": [
      "                     Met            r0            r1            r2  \\\n",
      "621  SQ_ACTIVE_INST_FLAT  2.443639e+06  2.156891e+06  2.199060e+06   \n",
      "622  SQ_ACTIVE_INST_MISC  9.774560e+06  8.627591e+06  8.796248e+06   \n",
      "623   SQ_ACTIVE_INST_SCA  2.688004e+07  2.372587e+07  2.418968e+07   \n",
      "624          wave_size_2  6.400000e+01  6.400000e+01  6.400000e+01   \n",
      "625          wave_size_1  6.400000e+01  6.400000e+01  6.400000e+01   \n",
      "\n",
      "               r3            r4            r5          r6            r7  \\\n",
      "621  2.097153e+06  2.289644e+06  2.212648e+06   2097153.0  2.097153e+06   \n",
      "622  8.388625e+06  9.158585e+06  8.850606e+06   8388642.0  8.388629e+06   \n",
      "623  2.306872e+07  2.518611e+07  2.433916e+07  23068758.0  2.306872e+07   \n",
      "624  6.400000e+01  6.400000e+01  6.400000e+01        64.0  6.400000e+01   \n",
      "625  6.400000e+01  6.400000e+01  6.400000e+01        64.0  6.400000e+01   \n",
      "\n",
      "               r8  ...        r182        r183        r184        r185  \\\n",
      "621  2.097153e+06  ...   6543117.0   6291459.0   6291459.0   6291459.0   \n",
      "622  8.388622e+06  ...   8724176.0   8388628.0   8388616.0   8388626.0   \n",
      "623  2.306871e+07  ...  30534596.0  29360182.0  29360152.0  29360177.0   \n",
      "624  6.400000e+01  ...        64.0        64.0        64.0        64.0   \n",
      "625  6.400000e+01  ...        64.0        64.0        64.0        64.0   \n",
      "\n",
      "           r186        r187        r188        r189        r190        r191  \n",
      "621   6591051.0   6291459.0  12582915.0   6622587.0   6291459.0   6291459.0  \n",
      "622   8788072.0   8388612.0  16777220.0   8830118.0   8388612.0   8388618.0  \n",
      "623  30758248.0  29360142.0  58720270.0  30905411.0  29360142.0  29360157.0  \n",
      "624        64.0        64.0        64.0        64.0        64.0        64.0  \n",
      "625        64.0        64.0        64.0        64.0        64.0        64.0  \n",
      "\n",
      "[5 rows x 193 columns]\n"
     ]
    }
   ],
   "source": [
    "\n",
    "col_names = ['Met']\n",
    "col_names = col_names + (['r'+str(x) for x in range((len(df.columns)) * len(df.iloc[2,2].split(',')))])\n",
    "temp_df = pd.DataFrame(columns=col_names)\n",
    "# print(col_names)\n",
    "for index, row in df.iterrows():\n",
    "    row_vals = [index]\n",
    "    # print(index)\n",
    "    for val in row:\n",
    "        row_vals = row_vals + [float(x) for x in val.split(',')]\n",
    "    temp_df.loc[-1] = row_vals\n",
    "    temp_df.index = temp_df.index + 1  # shifting index\n",
    "    temp_df = temp_df.sort_index()  # sorting by index\n",
    "\n",
    "print(temp_df.tail())"
   ]
  },
  {
   "cell_type": "code",
   "execution_count": 118,
   "metadata": {},
   "outputs": [
    {
     "ename": "TypeError",
     "evalue": "corr() got an unexpected keyword argument 'numeric_only'",
     "output_type": "error",
     "traceback": [
      "\u001b[0;31m---------------------------------------------------------------------------\u001b[0m",
      "\u001b[0;31mTypeError\u001b[0m                                 Traceback (most recent call last)",
      "\u001b[0;32m/tmp/ipykernel_1163980/2737429467.py\u001b[0m in \u001b[0;36m<module>\u001b[0;34m\u001b[0m\n\u001b[1;32m     13\u001b[0m \u001b[0;31m# temp_df_transposed.rename(columns=temp_df_transposed.iloc[0])\u001b[0m\u001b[0;34m\u001b[0m\u001b[0;34m\u001b[0m\u001b[0;34m\u001b[0m\u001b[0m\n\u001b[1;32m     14\u001b[0m \u001b[0;31m# temp_df_transposed = temp_df_transposed.drop(columns=['Met'])\u001b[0m\u001b[0;34m\u001b[0m\u001b[0;34m\u001b[0m\u001b[0;34m\u001b[0m\u001b[0m\n\u001b[0;32m---> 15\u001b[0;31m \u001b[0mcorrelation_matrix\u001b[0m \u001b[0;34m=\u001b[0m \u001b[0mtemp_df_transposed\u001b[0m\u001b[0;34m.\u001b[0m\u001b[0mcorr\u001b[0m\u001b[0;34m(\u001b[0m\u001b[0mnumeric_only\u001b[0m\u001b[0;34m=\u001b[0m\u001b[0;32mFalse\u001b[0m\u001b[0;34m)\u001b[0m\u001b[0;34m\u001b[0m\u001b[0;34m\u001b[0m\u001b[0m\n\u001b[0m\u001b[1;32m     16\u001b[0m \u001b[0;34m\u001b[0m\u001b[0m\n\u001b[1;32m     17\u001b[0m \u001b[0;31m# Print correlation matrix\u001b[0m\u001b[0;34m\u001b[0m\u001b[0;34m\u001b[0m\u001b[0;34m\u001b[0m\u001b[0m\n",
      "\u001b[0;31mTypeError\u001b[0m: corr() got an unexpected keyword argument 'numeric_only'"
     ]
    }
   ],
   "source": [
    "\n",
    "# Drop the 'Unnamed: 0' column if it's not useful for correlation calculation\n",
    "# df.drop(columns=['Unnamed: 0'], inplace=True)\n",
    "\n",
    "# Calculate correlation matrix\n",
    "# print(temp_df.tail())\n",
    "d_df = temp_df\n",
    "d_df = d_df.set_index('Met')\n",
    "temp_df_transposed = d_df.T\n",
    "# temp_df_transposed['new_col'] = range(0, len(temp_df_transposed))\n",
    "# temp_df_transposed = temp_df_transposed.set_index('new_col')\n",
    "# print(temp_df_transposed.index)\n",
    "# temp_df_transposed = temp_df_transposed.drop(temp_df_transposed.index[-1])\n",
    "# temp_df_transposed.rename(columns=temp_df_transposed.iloc[0])\n",
    "# temp_df_transposed = temp_df_transposed.drop(columns=['Met'])\n",
    "correlation_matrix = temp_df_transposed.corr()\n",
    "\n",
    "# Print correlation matrix\n",
    "print(\"Correlation Matrix:\")\n",
    "print(correlation_matrix)\n",
    "\n",
    "correlation_matrix.to_csv('corr.csv')"
   ]
  }
 ],
 "metadata": {
  "kernelspec": {
   "display_name": "analysis_framework_env",
   "language": "python",
   "name": "python3"
  },
  "language_info": {
   "codemirror_mode": {
    "name": "ipython",
    "version": 3
   },
   "file_extension": ".py",
   "mimetype": "text/x-python",
   "name": "python",
   "nbconvert_exporter": "python",
   "pygments_lexer": "ipython3",
   "version": "3.7.12"
  }
 },
 "nbformat": 4,
 "nbformat_minor": 2
}
